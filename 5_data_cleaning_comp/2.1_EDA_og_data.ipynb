{
 "cells": [
  {
   "cell_type": "markdown",
   "metadata": {},
   "source": [
    "# Imports"
   ]
  },
  {
   "cell_type": "code",
   "execution_count": 4,
   "metadata": {},
   "outputs": [],
   "source": [
    "import numpy as np\n",
    "import pandas as pd\n",
    "import os\n",
    "from dateutil.relativedelta import relativedelta\n",
    "import datetime\n",
    "import matplotlib.pyplot as plt"
   ]
  },
  {
   "cell_type": "code",
   "execution_count": 1,
   "metadata": {},
   "outputs": [
    {
     "name": "stdout",
     "output_type": "stream",
     "text": [
      "ukb43673_comp_cols.csv\t    ukb43673_somatic_cols_1yr.csv\n",
      "ukb43673_comp_cols_1yr.csv  ukb43673_somatic_cols_6mo.csv\n",
      "ukb43673_somatic_cols.csv\n"
     ]
    }
   ],
   "source": [
    "!ls ../data_generated"
   ]
  },
  {
   "cell_type": "code",
   "execution_count": 2,
   "metadata": {},
   "outputs": [],
   "source": [
    "input_path = \"/scratch/cc6580/javiera_research/data_original/\"\n",
    "output_path = \"/scratch/cc6580/javiera_research/data_generated/\""
   ]
  },
  {
   "cell_type": "markdown",
   "metadata": {},
   "source": [
    "# Age Before Filter"
   ]
  },
  {
   "cell_type": "code",
   "execution_count": 5,
   "metadata": {},
   "outputs": [],
   "source": [
    "df_og = pd.read_csv(f\"{output_path}ukb43673_comp_cols.csv\")"
   ]
  },
  {
   "cell_type": "code",
   "execution_count": 6,
   "metadata": {},
   "outputs": [],
   "source": [
    "df_og = df_og.drop(['Unnamed: 0'], axis=1)\n",
    "    # I forgot to save the dataframe without the indices, so they got saved as a column"
   ]
  },
  {
   "cell_type": "code",
   "execution_count": 7,
   "metadata": {},
   "outputs": [
    {
     "data": {
      "text/plain": [
       "453492"
      ]
     },
     "execution_count": 7,
     "metadata": {},
     "output_type": "execute_result"
    }
   ],
   "source": [
    "df_og['21003-2.0'].isnull().sum()\n",
    "# our age columns has 454392 missing values"
   ]
  },
  {
   "cell_type": "code",
   "execution_count": 8,
   "metadata": {},
   "outputs": [
    {
     "data": {
      "text/plain": [
       "502493"
      ]
     },
     "execution_count": 8,
     "metadata": {},
     "output_type": "execute_result"
    }
   ],
   "source": [
    "len(df_og)"
   ]
  },
  {
   "cell_type": "code",
   "execution_count": 9,
   "metadata": {},
   "outputs": [
    {
     "data": {
      "text/plain": [
       "0.9024842137104397"
      ]
     },
     "execution_count": 9,
     "metadata": {},
     "output_type": "execute_result"
    }
   ],
   "source": [
    "df_og['21003-2.0'].isnull().sum() / len(df_og)\n",
    "    # so actually, 90.25% of the samples in the non-filtered dataset is missing the age feature"
   ]
  },
  {
   "cell_type": "code",
   "execution_count": 10,
   "metadata": {},
   "outputs": [
    {
     "data": {
      "text/plain": [
       "5         58.0\n",
       "18        69.0\n",
       "23        56.0\n",
       "26        49.0\n",
       "28        50.0\n",
       "          ... \n",
       "502447    58.0\n",
       "502468    72.0\n",
       "502470    57.0\n",
       "502481    66.0\n",
       "502489    57.0\n",
       "Name: 21003-2.0, Length: 49001, dtype: float64"
      ]
     },
     "execution_count": 10,
     "metadata": {},
     "output_type": "execute_result"
    }
   ],
   "source": [
    "df_og['21003-2.0'].dropna()"
   ]
  },
  {
   "cell_type": "code",
   "execution_count": 11,
   "metadata": {},
   "outputs": [
    {
     "data": {
      "text/plain": [
       "Text(0, 0.5, 'count')"
      ]
     },
     "execution_count": 11,
     "metadata": {},
     "output_type": "execute_result"
    },
    {
     "data": {
      "image/png": "[encoded data removed]",
      "text/plain": [
       "<Figure size 432x288 with 1 Axes>"
      ]
     },
     "metadata": {
      "needs_background": "light"
     },
     "output_type": "display_data"
    }
   ],
   "source": [
    "df_og['21003-2.0'].dropna().hist(bins=int(max(df_og['21003-2.0'].dropna()) - min(df_og['21003-2.0'].dropna())))\n",
    "    # make a bin for each integer age\n",
    "    # must drop NaN values before any numerical methods can be used\n",
    "plt.title('histogram of age in entire data')\n",
    "plt.axvline(x=np.mean(df_og['21003-2.0'].dropna()), color = \"red\")\n",
    "plt.xlabel('age')\n",
    "plt.ylabel('count')"
   ]
  },
  {
   "cell_type": "markdown",
   "metadata": {},
   "source": [
    "# look into sex"
   ]
  },
  {
   "cell_type": "code",
   "execution_count": 12,
   "metadata": {},
   "outputs": [
    {
     "data": {
      "text/plain": [
       "1"
      ]
     },
     "execution_count": 12,
     "metadata": {},
     "output_type": "execute_result"
    }
   ],
   "source": [
    "df_og['31-0.0'].isnull().sum()\n",
    "# our age columns has 2001 missing values"
   ]
  },
  {
   "cell_type": "code",
   "execution_count": 13,
   "metadata": {},
   "outputs": [
    {
     "data": {
      "text/plain": [
       "1.9900774737160517e-06"
      ]
     },
     "execution_count": 13,
     "metadata": {},
     "output_type": "execute_result"
    }
   ],
   "source": [
    "df_og['31-0.0'].isnull().sum() / len(df_og)\n",
    "    # so actually, 0.40% of the samples in the non-filtered dataset is missing the sex feature"
   ]
  },
  {
   "cell_type": "code",
   "execution_count": 14,
   "metadata": {},
   "outputs": [
    {
     "data": {
      "text/plain": [
       "0         1.0\n",
       "1         1.0\n",
       "2         0.0\n",
       "3         0.0\n",
       "4         0.0\n",
       "         ... \n",
       "502488    0.0\n",
       "502489    0.0\n",
       "502490    0.0\n",
       "502491    0.0\n",
       "502492    0.0\n",
       "Name: 31-0.0, Length: 502492, dtype: float64"
      ]
     },
     "execution_count": 14,
     "metadata": {},
     "output_type": "execute_result"
    }
   ],
   "source": [
    "df_og['31-0.0'].dropna()"
   ]
  },
  {
   "cell_type": "code",
   "execution_count": 15,
   "metadata": {},
   "outputs": [
    {
     "data": {
      "text/plain": [
       "Text(0, 0.5, 'count')"
      ]
     },
     "execution_count": 15,
     "metadata": {},
     "output_type": "execute_result"
    },
    {
     "data": {
      "image/png": "[encoded data removed]",
      "text/plain": [
       "<Figure size 432x288 with 1 Axes>"
      ]
     },
     "metadata": {
      "needs_background": "light"
     },
     "output_type": "display_data"
    }
   ],
   "source": [
    "# df_og['31-0.0'].dropna().hist(bins=int(max(df_og['31-0.0'].dropna()) - min(df_og['31-0.0'].dropna())))\n",
    "df_og['31-0.0'].dropna().value_counts().plot(kind='bar')\n",
    "    # make a bin for each integer age\n",
    "    # must drop NaN values before any numerical methods can be used\n",
    "plt.title('histogram of sex in entire data')\n",
    "# plt.axvline(x=np.mean(df_og['21003-2.0'].dropna()), color = \"red\")\n",
    "plt.xlabel('sex')\n",
    "plt.ylabel('count')"
   ]
  },
  {
   "cell_type": "code",
   "execution_count": null,
   "metadata": {},
   "outputs": [],
   "source": []
  }
 ],
 "metadata": {
  "kernelspec": {
   "display_name": "Python 3",
   "language": "python",
   "name": "python3"
  },
  "language_info": {
   "codemirror_mode": {
    "name": "ipython",
    "version": 3
   },
   "file_extension": ".py",
   "mimetype": "text/x-python",
   "name": "python",
   "nbconvert_exporter": "python",
   "pygments_lexer": "ipython3",
   "version": "3.8.6"
  }
 },
 "nbformat": 4,
 "nbformat_minor": 4
}
