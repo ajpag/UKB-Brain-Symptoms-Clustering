{
 "cells": [
  {
   "cell_type": "markdown",
   "metadata": {},
   "source": [
    "# Imports"
   ]
  },
  {
   "cell_type": "code",
   "execution_count": 1,
   "metadata": {},
   "outputs": [],
   "source": [
    "import numpy as np\n",
    "import pandas as pd\n",
    "import os"
   ]
  },
  {
   "cell_type": "code",
   "execution_count": 5,
   "metadata": {},
   "outputs": [
    {
     "name": "stdout",
     "output_type": "stream",
     "text": [
      "brain_cols.csv\t\t ukb43673.csv\n",
      "javi_new_traits.txt\t ukb43673.zip\n",
      "javie_filtered_cols.csv  ukb_response_impute_ref_stats_group_ds3.csv\n",
      "somatic_cols.txt\n"
     ]
    }
   ],
   "source": [
    "!ls ../data_original"
   ]
  },
  {
   "cell_type": "code",
   "execution_count": 8,
   "metadata": {},
   "outputs": [],
   "source": [
    "input_path = \"/scratch/cc6580/javiera_research/data_original/\"\n",
    "output_path = \"/scratch/cc6580/javiera_research/data_generated/\""
   ]
  },
  {
   "cell_type": "markdown",
   "metadata": {},
   "source": [
    "# Load a List of Features We Want to Keep"
   ]
  },
  {
   "cell_type": "markdown",
   "metadata": {},
   "source": [
    "## Load New Traits Columns"
   ]
  },
  {
   "cell_type": "code",
   "execution_count": 13,
   "metadata": {},
   "outputs": [],
   "source": [
    "# read in the list of somatic features Javi selected\n",
    "with open(f\"{input_path}javi_new_traits.txt\", \"r\") as f:\n",
    "    lines = f.readlines()\n",
    "        # read all lines in the text file\n",
    "    lines = [i.strip() for i in lines]\n",
    "        # for each line, strip white space characters"
   ]
  },
  {
   "cell_type": "code",
   "execution_count": 14,
   "metadata": {},
   "outputs": [
    {
     "name": "stdout",
     "output_type": "stream",
     "text": [
      "['21059', '21041', '21025', '21033', '21034', '21040', '21039', '21038', '21064', '21035', '21038', '21042', '21043', '21044', '1970-2.0', '1980-2.0', '1990-2.0', '2000-2.0', '2010-2.0']\n"
     ]
    }
   ],
   "source": [
    "print(lines)"
   ]
  },
  {
   "cell_type": "code",
   "execution_count": 20,
   "metadata": {},
   "outputs": [],
   "source": [
    "trait_cols = [i+'-0.0' for i in lines][:-5]\n",
    "trait_cols.extend(lines[-5:])\n",
    "    # for each line add the index to match the column names in og_df\n",
    "    # do not keep the last feature since it does not exist in our data"
   ]
  },
  {
   "cell_type": "code",
   "execution_count": 21,
   "metadata": {},
   "outputs": [
    {
     "name": "stdout",
     "output_type": "stream",
     "text": [
      "['21059-0.0', '21041-0.0', '21025-0.0', '21033-0.0', '21034-0.0', '21040-0.0', '21039-0.0', '21038-0.0', '21064-0.0', '21035-0.0', '21038-0.0', '21042-0.0', '21043-0.0', '21044-0.0', '1970-2.0', '1980-2.0', '1990-2.0', '2000-2.0', '2010-2.0']\n"
     ]
    }
   ],
   "source": [
    "print(trait_cols)"
   ]
  },
  {
   "cell_type": "markdown",
   "metadata": {},
   "source": [
    "## Load Somatic Columns"
   ]
  },
  {
   "cell_type": "code",
   "execution_count": 9,
   "metadata": {},
   "outputs": [],
   "source": [
    "# read in the list of somatic features Javi selected\n",
    "with open(f\"{input_path}somatic_cols.txt\", \"r\") as f:\n",
    "    lines = f.readlines()\n",
    "        # read all lines in the text file\n",
    "    lines = [i.strip() for i in lines]\n",
    "        # for each line, strip white space characters"
   ]
  },
  {
   "cell_type": "code",
   "execution_count": 10,
   "metadata": {},
   "outputs": [],
   "source": [
    "somatic_cols = [i+'-0.0' for i in lines][:-1]\n",
    "    # for each line add the index to match the column names in og_df\n",
    "    # do not keep the last feature since it does not exist in our data"
   ]
  },
  {
   "cell_type": "code",
   "execution_count": 12,
   "metadata": {},
   "outputs": [
    {
     "name": "stdout",
     "output_type": "stream",
     "text": [
      "['21048-0.0', '21052-0.0', '21053-0.0', '21054-0.0', '21055-0.0', '21060-0.0', '21051-0.0', '21050-0.0', '21059-0.0', '21049-0.0', '21057-0.0', '21056-0.0', '21058-0.0', '21041-0.0', '21025-0.0', '21033-0.0', '21034-0.0', '21040-0.0', '21039-0.0', '21061-0.0', '20519-0.0', '20517-0.0', '21038-0.0', '21064-0.0']\n"
     ]
    }
   ],
   "source": [
    "print(somatic_cols)"
   ]
  },
  {
   "cell_type": "markdown",
   "metadata": {},
   "source": [
    "## Load Javi Columns"
   ]
  },
  {
   "cell_type": "code",
   "execution_count": 23,
   "metadata": {},
   "outputs": [
    {
     "name": "stdout",
     "output_type": "stream",
     "text": [
      "Index(['questionnaire', 'UDI', 'Coding', 'meaning', 'class', 'type',\n",
      "       'question'],\n",
      "      dtype='object')\n"
     ]
    }
   ],
   "source": [
    "df_javi_cols = pd.read_csv(f\"{input_path}javie_filtered_cols.csv\")\n",
    "print(df_javi_cols.columns)"
   ]
  },
  {
   "cell_type": "code",
   "execution_count": 24,
   "metadata": {},
   "outputs": [],
   "source": [
    "cols_keep = df_javi_cols['UDI']\n",
    "    # a list of all the featureID's we are going to keep\n",
    "    \n",
    "javi_cols = cols_keep.tolist()"
   ]
  },
  {
   "cell_type": "code",
   "execution_count": 25,
   "metadata": {},
   "outputs": [
    {
     "name": "stdout",
     "output_type": "stream",
     "text": [
      "['21044-0.0', '21048-0.0', '21052-0.0', '21053-0.0', '21054-0.0', '21055-0.0', '21060-0.0', '21051-0.0', '21050-0.0', '21059-0.0', '21049-0.0', '21057-0.0', '21056-0.0', '21061-0.0', '21058-0.0', '21041-0.0', '21025-0.0', '21033-0.0', '21034-0.0', '21042-0.0', '21043-0.0', '21040-0.0', '21039-0.0', '20518-0.0', '20510-0.0', '20507-0.0', '20519-0.0', '20514-0.0', '20511-0.0', '20513-0.0', '20508-0.0', '20517-0.0', '20505-0.0', '20512-0.0', '20506-0.0', '20509-0.0', '20516-0.0', '20515-0.0', '20520-0.0', '20458-0.0', '20459-0.0', '20460-0.0', '20497-0.0', '20498-0.0', '20495-0.0', '20496-0.0', '20494-0.0', '20479-0.0', '20485-0.0']\n"
     ]
    }
   ],
   "source": [
    "print(javi_cols)"
   ]
  },
  {
   "cell_type": "markdown",
   "metadata": {},
   "source": [
    "## Load Brain Columns"
   ]
  },
  {
   "cell_type": "code",
   "execution_count": 26,
   "metadata": {},
   "outputs": [
    {
     "name": "stdout",
     "output_type": "stream",
     "text": [
      "Index(['DTI_cols', 'DTI Weigthed means', 'Gray_cols', 'Gray matter volumes'], dtype='object')\n"
     ]
    }
   ],
   "source": [
    "df_brain_cols = pd.read_csv(f\"{input_path}brain_cols.csv\")\n",
    "print(df_brain_cols.columns)"
   ]
  },
  {
   "cell_type": "code",
   "execution_count": 28,
   "metadata": {},
   "outputs": [],
   "source": [
    "# get all the feature names\n",
    "cols_keep = pd.concat([df_brain_cols['DTI_cols'].dropna(),df_brain_cols['Gray_cols'].dropna()]).reset_index(drop=True)\n",
    "\n",
    "# change the series of the kept column names to int (get rid of .0) then to strings \n",
    "cols_keep = cols_keep.apply(int)\n",
    "cols_keep = cols_keep.apply(str)\n",
    "cols_keep = cols_keep.apply(lambda x:x+'-2.0')\n",
    "    # only keep the measurements from attending the 2nd assessment center \n",
    "    # later we will see that no 3rd center attendance are within the time lapse of the questionnaires\n",
    "    \n",
    "brain_cols = cols_keep.tolist()"
   ]
  },
  {
   "cell_type": "code",
   "execution_count": 29,
   "metadata": {},
   "outputs": [
    {
     "name": "stdout",
     "output_type": "stream",
     "text": [
      "['25492-2.0', '25493-2.0', '25513-2.0', '25514-2.0', '25496-2.0', '25497-2.0', '25505-2.0', '25506-2.0', '25494-2.0', '25495-2.0', '25523-2.0', '25524-2.0', '25532-2.0', '25533-2.0', '25521-2.0', '25522-2.0', '25519-2.0', '25520-2.0', '25540-2.0', '25541-2.0', '25095-2.0', '25094-2.0', '25143-2.0', '25142-2.0', '25109-2.0', '25021-2.0', '25022-2.0', '25888-2.0', '25889-2.0', '25019-2.0', '25020-2.0', '25886-2.0', '25887-2.0', '25878-2.0', '25879-2.0', '25011-2.0', '25012-2.0', '25838-2.0', '25839-2.0', '25840-2.0', '25841-2.0', '25830-2.0', '25831-2.0', '25862-2.0', '25863-2.0', '25846-2.0', '25847-2.0', '25782-2.0', '25783-2.0', '25784-2.0', '25785-2.0', '25848-2.0', '25849-2.0', '25850-2.0', '25851-2.0']\n"
     ]
    }
   ],
   "source": [
    "print(brain_cols)"
   ]
  },
  {
   "cell_type": "markdown",
   "metadata": {},
   "source": [
    "## Combine All Columns"
   ]
  },
  {
   "cell_type": "code",
   "execution_count": 37,
   "metadata": {},
   "outputs": [],
   "source": [
    "cols_keep_list = trait_cols\n",
    "cols_keep_list.extend(somatic_cols)\n",
    "cols_keep_list.extend(javi_cols)\n",
    "cols_keep_list.extend(brain_cols)\n",
    "\n",
    "# add the 4 date columns\n",
    "cols_keep_list.extend(['21023-0.0','20400-0.0','53-2.0','53-3.0'])\n",
    "\n",
    "# add the 3 demographic columns\n",
    "cols_keep_list.extend(['21003-2.0','21003-3.0','31-0.0'])\n",
    "\n",
    "# add the patient id column\n",
    "cols_keep_list.append('eid')\n",
    "\n",
    "# convert to set to remove duplicates then back to list\n",
    "cols_keep_set = set(cols_keep_list)\n",
    "cols_keep_list = list(cols_keep_set)"
   ]
  },
  {
   "cell_type": "code",
   "execution_count": 38,
   "metadata": {},
   "outputs": [
    {
     "data": {
      "text/plain": [
       "120"
      ]
     },
     "execution_count": 38,
     "metadata": {},
     "output_type": "execute_result"
    }
   ],
   "source": [
    "len(cols_keep_list)"
   ]
  },
  {
   "cell_type": "markdown",
   "metadata": {},
   "source": [
    "# Filter Data to Those Columns"
   ]
  },
  {
   "cell_type": "code",
   "execution_count": 39,
   "metadata": {},
   "outputs": [],
   "source": [
    "# df_og = pd.read_csv('ukb43673.csv')\n",
    "    #still can't do this, have to do it in chunks"
   ]
  },
  {
   "cell_type": "code",
   "execution_count": 41,
   "metadata": {},
   "outputs": [
    {
     "name": "stderr",
     "output_type": "stream",
     "text": [
      "/share/apps/python/3.8.6/intel/lib/python3.8/site-packages/IPython/core/interactiveshell.py:3145: DtypeWarning: Columns (7,12,1092,1094,1096,1098,1105,1107,1109,1307,2503,2505,2507,2509,2511,2513,2515,2517,2519) have mixed types.Specify dtype option on import or set low_memory=False.\n",
      "  has_raised = await self.run_ast_nodes(code_ast.body, cell_name,\n"
     ]
    },
    {
     "name": "stdout",
     "output_type": "stream",
     "text": [
      "0  :created dataframe\n"
     ]
    },
    {
     "name": "stderr",
     "output_type": "stream",
     "text": [
      "/share/apps/python/3.8.6/intel/lib/python3.8/site-packages/IPython/core/interactiveshell.py:3145: DtypeWarning: Columns (7,1092,1094,1096,1098,1105,1107,1109,2503,2505,2507,2509,2511,2513,2515,2517,2519) have mixed types.Specify dtype option on import or set low_memory=False.\n",
      "  has_raised = await self.run_ast_nodes(code_ast.body, cell_name,\n"
     ]
    },
    {
     "name": "stdout",
     "output_type": "stream",
     "text": [
      "1  :appended dataframe\n",
      "2  :appended dataframe\n"
     ]
    },
    {
     "name": "stderr",
     "output_type": "stream",
     "text": [
      "/share/apps/python/3.8.6/intel/lib/python3.8/site-packages/IPython/core/interactiveshell.py:3145: DtypeWarning: Columns (7,12,1092,1094,1096,1098,1105,1107,1109,2503,2505,2507,2509,2511,2513,2515,2517,2519) have mixed types.Specify dtype option on import or set low_memory=False.\n",
      "  has_raised = await self.run_ast_nodes(code_ast.body, cell_name,\n"
     ]
    },
    {
     "name": "stdout",
     "output_type": "stream",
     "text": [
      "3  :appended dataframe\n",
      "4  :appended dataframe\n"
     ]
    },
    {
     "name": "stderr",
     "output_type": "stream",
     "text": [
      "/share/apps/python/3.8.6/intel/lib/python3.8/site-packages/IPython/core/interactiveshell.py:3145: DtypeWarning: Columns (12,1098,1105,1107,1109,2503,2505,2507,2509,2511,2513,2515,2517,2519) have mixed types.Specify dtype option on import or set low_memory=False.\n",
      "  has_raised = await self.run_ast_nodes(code_ast.body, cell_name,\n"
     ]
    },
    {
     "name": "stdout",
     "output_type": "stream",
     "text": [
      "5  :appended dataframe\n",
      "6  :appended dataframe\n",
      "7  :appended dataframe\n",
      "8  :appended dataframe\n",
      "9  :appended dataframe\n",
      "10  :appended dataframe\n",
      "11  :appended dataframe\n",
      "12  :appended dataframe\n",
      "13  :appended dataframe\n",
      "14  :appended dataframe\n",
      "15  :appended dataframe\n",
      "16  :appended dataframe\n",
      "17  :appended dataframe\n",
      "18  :appended dataframe\n",
      "19  :appended dataframe\n",
      "20  :appended dataframe\n",
      "21  :appended dataframe\n"
     ]
    },
    {
     "name": "stderr",
     "output_type": "stream",
     "text": [
      "/share/apps/python/3.8.6/intel/lib/python3.8/site-packages/IPython/core/interactiveshell.py:3145: DtypeWarning: Columns (7,12,1092,1094,1096,1098,1105,1107,1109,1307,2503,2505,2507,2509,2511,2513,2515,2517,2519,2830) have mixed types.Specify dtype option on import or set low_memory=False.\n",
      "  has_raised = await self.run_ast_nodes(code_ast.body, cell_name,\n"
     ]
    },
    {
     "name": "stdout",
     "output_type": "stream",
     "text": [
      "22  :appended dataframe\n",
      "23  :appended dataframe\n",
      "24  :appended dataframe\n",
      "25  :appended dataframe\n",
      "26  :appended dataframe\n",
      "27  :appended dataframe\n"
     ]
    },
    {
     "name": "stderr",
     "output_type": "stream",
     "text": [
      "/share/apps/python/3.8.6/intel/lib/python3.8/site-packages/IPython/core/interactiveshell.py:3145: DtypeWarning: Columns (12,1098,1105,1107,1109,1307,2503,2505,2507,2509,2511,2513,2515,2517,2519) have mixed types.Specify dtype option on import or set low_memory=False.\n",
      "  has_raised = await self.run_ast_nodes(code_ast.body, cell_name,\n"
     ]
    },
    {
     "name": "stdout",
     "output_type": "stream",
     "text": [
      "28  :appended dataframe\n"
     ]
    },
    {
     "name": "stderr",
     "output_type": "stream",
     "text": [
      "/share/apps/python/3.8.6/intel/lib/python3.8/site-packages/IPython/core/interactiveshell.py:3145: DtypeWarning: Columns (12,1098,1105,1107,1109,1307,2503,2505,2507,2509,2511,2513,2515,2517,2519,2830) have mixed types.Specify dtype option on import or set low_memory=False.\n",
      "  has_raised = await self.run_ast_nodes(code_ast.body, cell_name,\n"
     ]
    },
    {
     "name": "stdout",
     "output_type": "stream",
     "text": [
      "29  :appended dataframe\n"
     ]
    },
    {
     "name": "stderr",
     "output_type": "stream",
     "text": [
      "/share/apps/python/3.8.6/intel/lib/python3.8/site-packages/IPython/core/interactiveshell.py:3145: DtypeWarning: Columns (7,12,1092,1094,1096,1098,1105,1107,1109,2503,2505,2507,2509,2511,2513,2515,2517,2519,2830) have mixed types.Specify dtype option on import or set low_memory=False.\n",
      "  has_raised = await self.run_ast_nodes(code_ast.body, cell_name,\n"
     ]
    },
    {
     "name": "stdout",
     "output_type": "stream",
     "text": [
      "30  :appended dataframe\n",
      "31  :appended dataframe\n",
      "32  :appended dataframe\n",
      "33  :appended dataframe\n",
      "34  :appended dataframe\n",
      "35  :appended dataframe\n",
      "36  :appended dataframe\n",
      "37  :appended dataframe\n",
      "38  :appended dataframe\n",
      "39  :appended dataframe\n",
      "40  :appended dataframe\n"
     ]
    },
    {
     "name": "stderr",
     "output_type": "stream",
     "text": [
      "/share/apps/python/3.8.6/intel/lib/python3.8/site-packages/IPython/core/interactiveshell.py:3145: DtypeWarning: Columns (12,1092,1098,1105,1107,1109,1307,2503,2505,2507,2509,2511,2513,2515,2517,2519) have mixed types.Specify dtype option on import or set low_memory=False.\n",
      "  has_raised = await self.run_ast_nodes(code_ast.body, cell_name,\n"
     ]
    },
    {
     "name": "stdout",
     "output_type": "stream",
     "text": [
      "41  :appended dataframe\n",
      "42  :appended dataframe\n",
      "43  :appended dataframe\n",
      "44  :appended dataframe\n",
      "45  :appended dataframe\n",
      "46  :appended dataframe\n",
      "47  :appended dataframe\n"
     ]
    },
    {
     "name": "stderr",
     "output_type": "stream",
     "text": [
      "/share/apps/python/3.8.6/intel/lib/python3.8/site-packages/IPython/core/interactiveshell.py:3145: DtypeWarning: Columns (12,1092,1098,1105,1107,1109,2503,2505,2507,2509,2511,2513,2515,2517,2519) have mixed types.Specify dtype option on import or set low_memory=False.\n",
      "  has_raised = await self.run_ast_nodes(code_ast.body, cell_name,\n"
     ]
    },
    {
     "name": "stdout",
     "output_type": "stream",
     "text": [
      "48  :appended dataframe\n"
     ]
    },
    {
     "name": "stderr",
     "output_type": "stream",
     "text": [
      "/share/apps/python/3.8.6/intel/lib/python3.8/site-packages/IPython/core/interactiveshell.py:3145: DtypeWarning: Columns (12,1098,1105,1107,1109,2503,2505,2507,2509,2511,2513,2515,2517,2519,2830) have mixed types.Specify dtype option on import or set low_memory=False.\n",
      "  has_raised = await self.run_ast_nodes(code_ast.body, cell_name,\n"
     ]
    },
    {
     "name": "stdout",
     "output_type": "stream",
     "text": [
      "49  :appended dataframe\n",
      "50  :appended dataframe\n",
      "51  :appended dataframe\n",
      "52  :appended dataframe\n",
      "53  :appended dataframe\n",
      "54  :appended dataframe\n",
      "55  :appended dataframe\n",
      "56  :appended dataframe\n",
      "57  :appended dataframe\n",
      "58  :appended dataframe\n",
      "59  :appended dataframe\n",
      "60  :appended dataframe\n",
      "61  :appended dataframe\n",
      "62  :appended dataframe\n",
      "63  :appended dataframe\n",
      "64  :appended dataframe\n",
      "65  :appended dataframe\n",
      "66  :appended dataframe\n",
      "67  :appended dataframe\n",
      "68  :appended dataframe\n",
      "69  :appended dataframe\n",
      "70  :appended dataframe\n",
      "71  :appended dataframe\n",
      "72  :appended dataframe\n"
     ]
    },
    {
     "name": "stderr",
     "output_type": "stream",
     "text": [
      "/share/apps/python/3.8.6/intel/lib/python3.8/site-packages/IPython/core/interactiveshell.py:3145: DtypeWarning: Columns (7,12,1092,1094,1096,1098,1107,1109,2503,2505,2507,2509,2511,2513,2515,2517,2519) have mixed types.Specify dtype option on import or set low_memory=False.\n",
      "  has_raised = await self.run_ast_nodes(code_ast.body, cell_name,\n"
     ]
    },
    {
     "name": "stdout",
     "output_type": "stream",
     "text": [
      "73  :appended dataframe\n",
      "74  :appended dataframe\n",
      "75  :appended dataframe\n",
      "76  :appended dataframe\n",
      "77  :appended dataframe\n",
      "78  :appended dataframe\n",
      "79  :appended dataframe\n",
      "80  :appended dataframe\n",
      "81  :appended dataframe\n",
      "82  :appended dataframe\n",
      "83  :appended dataframe\n",
      "84  :appended dataframe\n",
      "85  :appended dataframe\n",
      "86  :appended dataframe\n",
      "87  :appended dataframe\n",
      "88  :appended dataframe\n",
      "89  :appended dataframe\n",
      "90  :appended dataframe\n",
      "91  :appended dataframe\n",
      "92  :appended dataframe\n",
      "93  :appended dataframe\n",
      "94  :appended dataframe\n",
      "95  :appended dataframe\n",
      "96  :appended dataframe\n",
      "97  :appended dataframe\n"
     ]
    },
    {
     "name": "stderr",
     "output_type": "stream",
     "text": [
      "/share/apps/python/3.8.6/intel/lib/python3.8/site-packages/IPython/core/interactiveshell.py:3145: DtypeWarning: Columns (12,1092,1094,1096,1098,1105,1107,1109,2503,2505,2507,2509,2511,2513,2515,2517,2519,2830) have mixed types.Specify dtype option on import or set low_memory=False.\n",
      "  has_raised = await self.run_ast_nodes(code_ast.body, cell_name,\n"
     ]
    },
    {
     "name": "stdout",
     "output_type": "stream",
     "text": [
      "98  :appended dataframe\n",
      "99  :appended dataframe\n",
      "100  :appended dataframe\n",
      "101  :appended dataframe\n",
      "102  :appended dataframe\n",
      "103  :appended dataframe\n",
      "104  :appended dataframe\n",
      "105  :appended dataframe\n",
      "106  :appended dataframe\n",
      "107  :appended dataframe\n",
      "108  :appended dataframe\n",
      "109  :appended dataframe\n"
     ]
    },
    {
     "name": "stderr",
     "output_type": "stream",
     "text": [
      "/share/apps/python/3.8.6/intel/lib/python3.8/site-packages/IPython/core/interactiveshell.py:3145: DtypeWarning: Columns (7,12,1092,1094,1096,1098,1105,1107,1109,2509,2511,2513,2515,2517,2519) have mixed types.Specify dtype option on import or set low_memory=False.\n",
      "  has_raised = await self.run_ast_nodes(code_ast.body, cell_name,\n"
     ]
    },
    {
     "name": "stdout",
     "output_type": "stream",
     "text": [
      "110  :appended dataframe\n",
      "111  :appended dataframe\n",
      "112  :appended dataframe\n",
      "113  :appended dataframe\n",
      "114  :appended dataframe\n"
     ]
    },
    {
     "name": "stderr",
     "output_type": "stream",
     "text": [
      "/share/apps/python/3.8.6/intel/lib/python3.8/site-packages/IPython/core/interactiveshell.py:3145: DtypeWarning: Columns (12,1092,1094,1096,1098,1105,1107,1109,2503,2505,2507,2509,2511,2513,2515,2517,2519) have mixed types.Specify dtype option on import or set low_memory=False.\n",
      "  has_raised = await self.run_ast_nodes(code_ast.body, cell_name,\n"
     ]
    },
    {
     "name": "stdout",
     "output_type": "stream",
     "text": [
      "115  :appended dataframe\n",
      "116  :appended dataframe\n",
      "117  :appended dataframe\n"
     ]
    },
    {
     "name": "stderr",
     "output_type": "stream",
     "text": [
      "/share/apps/python/3.8.6/intel/lib/python3.8/site-packages/IPython/core/interactiveshell.py:3145: DtypeWarning: Columns (12,1092,1098,1105,1107,1109,2503,2505,2507,2509,2511,2513,2515,2517,2519,2830) have mixed types.Specify dtype option on import or set low_memory=False.\n",
      "  has_raised = await self.run_ast_nodes(code_ast.body, cell_name,\n"
     ]
    },
    {
     "name": "stdout",
     "output_type": "stream",
     "text": [
      "118  :appended dataframe\n",
      "119  :appended dataframe\n",
      "120  :appended dataframe\n",
      "121  :appended dataframe\n",
      "122  :appended dataframe\n",
      "123  :appended dataframe\n",
      "124  :appended dataframe\n",
      "125  :appended dataframe\n",
      "126  :appended dataframe\n",
      "127  :appended dataframe\n",
      "128  :appended dataframe\n",
      "129  :appended dataframe\n",
      "130  :appended dataframe\n",
      "131  :appended dataframe\n",
      "132  :appended dataframe\n",
      "133  :appended dataframe\n",
      "134  :appended dataframe\n",
      "135  :appended dataframe\n",
      "136  :appended dataframe\n",
      "137  :appended dataframe\n",
      "138  :appended dataframe\n",
      "139  :appended dataframe\n",
      "140  :appended dataframe\n",
      "141  :appended dataframe\n",
      "142  :appended dataframe\n",
      "143  :appended dataframe\n",
      "144  :appended dataframe\n",
      "145  :appended dataframe\n",
      "146  :appended dataframe\n",
      "147  :appended dataframe\n",
      "148  :appended dataframe\n",
      "149  :appended dataframe\n",
      "150  :appended dataframe\n",
      "151  :appended dataframe\n",
      "152  :appended dataframe\n",
      "153  :appended dataframe\n",
      "154  :appended dataframe\n",
      "155  :appended dataframe\n",
      "156  :appended dataframe\n",
      "157  :appended dataframe\n",
      "158  :appended dataframe\n",
      "159  :appended dataframe\n",
      "160  :appended dataframe\n",
      "161  :appended dataframe\n",
      "162  :appended dataframe\n",
      "163  :appended dataframe\n",
      "164  :appended dataframe\n",
      "165  :appended dataframe\n",
      "166  :appended dataframe\n",
      "167  :appended dataframe\n",
      "168  :appended dataframe\n",
      "169  :appended dataframe\n",
      "170  :appended dataframe\n",
      "171  :appended dataframe\n",
      "172  :appended dataframe\n",
      "173  :appended dataframe\n",
      "174  :appended dataframe\n",
      "175  :appended dataframe\n",
      "176  :appended dataframe\n"
     ]
    },
    {
     "name": "stderr",
     "output_type": "stream",
     "text": [
      "/share/apps/python/3.8.6/intel/lib/python3.8/site-packages/IPython/core/interactiveshell.py:3145: DtypeWarning: Columns (12,1092,1094,1098,1105,1107,1109,2503,2505,2507,2509,2511,2513,2515,2517,2519) have mixed types.Specify dtype option on import or set low_memory=False.\n",
      "  has_raised = await self.run_ast_nodes(code_ast.body, cell_name,\n"
     ]
    },
    {
     "name": "stdout",
     "output_type": "stream",
     "text": [
      "177  :appended dataframe\n",
      "178  :appended dataframe\n",
      "179  :appended dataframe\n",
      "180  :appended dataframe\n",
      "181  :appended dataframe\n",
      "182  :appended dataframe\n",
      "183  :appended dataframe\n",
      "184  :appended dataframe\n",
      "185  :appended dataframe\n",
      "186  :appended dataframe\n"
     ]
    },
    {
     "name": "stderr",
     "output_type": "stream",
     "text": [
      "/share/apps/python/3.8.6/intel/lib/python3.8/site-packages/IPython/core/interactiveshell.py:3145: DtypeWarning: Columns (12,1092,1094,1096,1098,1105,1107,1109,1307,2503,2505,2507,2509,2511,2513,2515,2517,2519) have mixed types.Specify dtype option on import or set low_memory=False.\n",
      "  has_raised = await self.run_ast_nodes(code_ast.body, cell_name,\n"
     ]
    },
    {
     "name": "stdout",
     "output_type": "stream",
     "text": [
      "187  :appended dataframe\n",
      "188  :appended dataframe\n",
      "189  :appended dataframe\n",
      "190  :appended dataframe\n",
      "191  :appended dataframe\n",
      "192  :appended dataframe\n",
      "193  :appended dataframe\n",
      "194  :appended dataframe\n",
      "195  :appended dataframe\n",
      "196  :appended dataframe\n",
      "197  :appended dataframe\n",
      "198  :appended dataframe\n",
      "199  :appended dataframe\n",
      "200  :appended dataframe\n",
      "201  :appended dataframe\n"
     ]
    },
    {
     "name": "stderr",
     "output_type": "stream",
     "text": [
      "/share/apps/python/3.8.6/intel/lib/python3.8/site-packages/IPython/core/interactiveshell.py:3145: DtypeWarning: Columns (7,12,1092,1094,1096,1098,1107,1109,1307,2503,2505,2507,2509,2511,2513,2515,2517,2519) have mixed types.Specify dtype option on import or set low_memory=False.\n",
      "  has_raised = await self.run_ast_nodes(code_ast.body, cell_name,\n"
     ]
    },
    {
     "name": "stdout",
     "output_type": "stream",
     "text": [
      "202  :appended dataframe\n",
      "203  :appended dataframe\n",
      "204  :appended dataframe\n",
      "205  :appended dataframe\n",
      "206  :appended dataframe\n",
      "207  :appended dataframe\n",
      "208  :appended dataframe\n",
      "209  :appended dataframe\n",
      "210  :appended dataframe\n",
      "211  :appended dataframe\n",
      "212  :appended dataframe\n",
      "213  :appended dataframe\n",
      "214  :appended dataframe\n",
      "215  :appended dataframe\n",
      "216  :appended dataframe\n",
      "217  :appended dataframe\n",
      "218  :appended dataframe\n",
      "219  :appended dataframe\n",
      "220  :appended dataframe\n",
      "221  :appended dataframe\n",
      "222  :appended dataframe\n",
      "223  :appended dataframe\n",
      "224  :appended dataframe\n",
      "225  :appended dataframe\n",
      "226  :appended dataframe\n",
      "227  :appended dataframe\n",
      "228  :appended dataframe\n",
      "229  :appended dataframe\n",
      "230  :appended dataframe\n",
      "231  :appended dataframe\n",
      "232  :appended dataframe\n",
      "233  :appended dataframe\n",
      "234  :appended dataframe\n",
      "235  :appended dataframe\n",
      "236  :appended dataframe\n",
      "237  :appended dataframe\n",
      "238  :appended dataframe\n",
      "239  :appended dataframe\n",
      "240  :appended dataframe\n",
      "241  :appended dataframe\n",
      "242  :appended dataframe\n",
      "243  :appended dataframe\n",
      "244  :appended dataframe\n",
      "245  :appended dataframe\n",
      "246  :appended dataframe\n",
      "247  :appended dataframe\n",
      "248  :appended dataframe\n",
      "249  :appended dataframe\n",
      "250  :appended dataframe\n"
     ]
    },
    {
     "name": "stderr",
     "output_type": "stream",
     "text": [
      "/share/apps/python/3.8.6/intel/lib/python3.8/site-packages/IPython/core/interactiveshell.py:3145: DtypeWarning: Columns (12,1098,1105,1107,1109,2509,2511,2513,2515,2517,2519) have mixed types.Specify dtype option on import or set low_memory=False.\n",
      "  has_raised = await self.run_ast_nodes(code_ast.body, cell_name,\n"
     ]
    },
    {
     "name": "stdout",
     "output_type": "stream",
     "text": [
      "251  :appended dataframe\n"
     ]
    }
   ],
   "source": [
    "# filter columns in chunks, then append all together\n",
    "chunksize = 2000\n",
    "i = 0\n",
    "for chunk in pd.read_csv(f\"{input_path}ukb43673.csv\", \n",
    "                         chunksize=chunksize, \n",
    "                         iterator=True):\n",
    "    if i == 0:\n",
    "        df_keep = chunk.loc[:,chunk.columns.isin(cols_keep_list)]\n",
    "        print(i, \" :created dataframe\")\n",
    "    else:\n",
    "        df_keep = pd.concat([df_keep, chunk.loc[:,chunk.columns.isin(cols_keep_list)]], \n",
    "                            axis=0)\n",
    "        print(i, \" :appended dataframe\")\n",
    "    i+=1\n"
   ]
  },
  {
   "cell_type": "code",
   "execution_count": 42,
   "metadata": {},
   "outputs": [
    {
     "data": {
      "text/html": [
       "<div>\n",
       "<style scoped>\n",
       "    .dataframe tbody tr th:only-of-type {\n",
       "        vertical-align: middle;\n",
       "    }\n",
       "\n",
       "    .dataframe tbody tr th {\n",
       "        vertical-align: top;\n",
       "    }\n",
       "\n",
       "    .dataframe thead th {\n",
       "        text-align: right;\n",
       "    }\n",
       "</style>\n",
       "<table border=\"1\" class=\"dataframe\">\n",
       "  <thead>\n",
       "    <tr style=\"text-align: right;\">\n",
       "      <th></th>\n",
       "      <th>eid</th>\n",
       "      <th>31-0.0</th>\n",
       "      <th>53-2.0</th>\n",
       "      <th>53-3.0</th>\n",
       "      <th>1970-2.0</th>\n",
       "      <th>1980-2.0</th>\n",
       "      <th>1990-2.0</th>\n",
       "      <th>2000-2.0</th>\n",
       "      <th>2010-2.0</th>\n",
       "      <th>20400-0.0</th>\n",
       "      <th>...</th>\n",
       "      <th>25850-2.0</th>\n",
       "      <th>25851-2.0</th>\n",
       "      <th>25862-2.0</th>\n",
       "      <th>25863-2.0</th>\n",
       "      <th>25878-2.0</th>\n",
       "      <th>25879-2.0</th>\n",
       "      <th>25886-2.0</th>\n",
       "      <th>25887-2.0</th>\n",
       "      <th>25888-2.0</th>\n",
       "      <th>25889-2.0</th>\n",
       "    </tr>\n",
       "  </thead>\n",
       "  <tbody>\n",
       "    <tr>\n",
       "      <th>0</th>\n",
       "      <td>1000014</td>\n",
       "      <td>1.0</td>\n",
       "      <td>NaN</td>\n",
       "      <td>NaN</td>\n",
       "      <td>NaN</td>\n",
       "      <td>NaN</td>\n",
       "      <td>NaN</td>\n",
       "      <td>NaN</td>\n",
       "      <td>NaN</td>\n",
       "      <td>NaN</td>\n",
       "      <td>...</td>\n",
       "      <td>NaN</td>\n",
       "      <td>NaN</td>\n",
       "      <td>NaN</td>\n",
       "      <td>NaN</td>\n",
       "      <td>NaN</td>\n",
       "      <td>NaN</td>\n",
       "      <td>NaN</td>\n",
       "      <td>NaN</td>\n",
       "      <td>NaN</td>\n",
       "      <td>NaN</td>\n",
       "    </tr>\n",
       "    <tr>\n",
       "      <th>1</th>\n",
       "      <td>1000023</td>\n",
       "      <td>1.0</td>\n",
       "      <td>NaN</td>\n",
       "      <td>NaN</td>\n",
       "      <td>NaN</td>\n",
       "      <td>NaN</td>\n",
       "      <td>NaN</td>\n",
       "      <td>NaN</td>\n",
       "      <td>NaN</td>\n",
       "      <td>NaN</td>\n",
       "      <td>...</td>\n",
       "      <td>NaN</td>\n",
       "      <td>NaN</td>\n",
       "      <td>NaN</td>\n",
       "      <td>NaN</td>\n",
       "      <td>NaN</td>\n",
       "      <td>NaN</td>\n",
       "      <td>NaN</td>\n",
       "      <td>NaN</td>\n",
       "      <td>NaN</td>\n",
       "      <td>NaN</td>\n",
       "    </tr>\n",
       "    <tr>\n",
       "      <th>2</th>\n",
       "      <td>1000030</td>\n",
       "      <td>0.0</td>\n",
       "      <td>NaN</td>\n",
       "      <td>NaN</td>\n",
       "      <td>NaN</td>\n",
       "      <td>NaN</td>\n",
       "      <td>NaN</td>\n",
       "      <td>NaN</td>\n",
       "      <td>NaN</td>\n",
       "      <td>2016-08-26</td>\n",
       "      <td>...</td>\n",
       "      <td>NaN</td>\n",
       "      <td>NaN</td>\n",
       "      <td>NaN</td>\n",
       "      <td>NaN</td>\n",
       "      <td>NaN</td>\n",
       "      <td>NaN</td>\n",
       "      <td>NaN</td>\n",
       "      <td>NaN</td>\n",
       "      <td>NaN</td>\n",
       "      <td>NaN</td>\n",
       "    </tr>\n",
       "    <tr>\n",
       "      <th>3</th>\n",
       "      <td>1000041</td>\n",
       "      <td>0.0</td>\n",
       "      <td>NaN</td>\n",
       "      <td>NaN</td>\n",
       "      <td>NaN</td>\n",
       "      <td>NaN</td>\n",
       "      <td>NaN</td>\n",
       "      <td>NaN</td>\n",
       "      <td>NaN</td>\n",
       "      <td>NaN</td>\n",
       "      <td>...</td>\n",
       "      <td>NaN</td>\n",
       "      <td>NaN</td>\n",
       "      <td>NaN</td>\n",
       "      <td>NaN</td>\n",
       "      <td>NaN</td>\n",
       "      <td>NaN</td>\n",
       "      <td>NaN</td>\n",
       "      <td>NaN</td>\n",
       "      <td>NaN</td>\n",
       "      <td>NaN</td>\n",
       "    </tr>\n",
       "    <tr>\n",
       "      <th>4</th>\n",
       "      <td>1000059</td>\n",
       "      <td>0.0</td>\n",
       "      <td>NaN</td>\n",
       "      <td>NaN</td>\n",
       "      <td>NaN</td>\n",
       "      <td>NaN</td>\n",
       "      <td>NaN</td>\n",
       "      <td>NaN</td>\n",
       "      <td>NaN</td>\n",
       "      <td>NaN</td>\n",
       "      <td>...</td>\n",
       "      <td>NaN</td>\n",
       "      <td>NaN</td>\n",
       "      <td>NaN</td>\n",
       "      <td>NaN</td>\n",
       "      <td>NaN</td>\n",
       "      <td>NaN</td>\n",
       "      <td>NaN</td>\n",
       "      <td>NaN</td>\n",
       "      <td>NaN</td>\n",
       "      <td>NaN</td>\n",
       "    </tr>\n",
       "    <tr>\n",
       "      <th>...</th>\n",
       "      <td>...</td>\n",
       "      <td>...</td>\n",
       "      <td>...</td>\n",
       "      <td>...</td>\n",
       "      <td>...</td>\n",
       "      <td>...</td>\n",
       "      <td>...</td>\n",
       "      <td>...</td>\n",
       "      <td>...</td>\n",
       "      <td>...</td>\n",
       "      <td>...</td>\n",
       "      <td>...</td>\n",
       "      <td>...</td>\n",
       "      <td>...</td>\n",
       "      <td>...</td>\n",
       "      <td>...</td>\n",
       "      <td>...</td>\n",
       "      <td>...</td>\n",
       "      <td>...</td>\n",
       "      <td>...</td>\n",
       "      <td>...</td>\n",
       "    </tr>\n",
       "    <tr>\n",
       "      <th>502488</th>\n",
       "      <td>6025017</td>\n",
       "      <td>0.0</td>\n",
       "      <td>NaN</td>\n",
       "      <td>NaN</td>\n",
       "      <td>NaN</td>\n",
       "      <td>NaN</td>\n",
       "      <td>NaN</td>\n",
       "      <td>NaN</td>\n",
       "      <td>NaN</td>\n",
       "      <td>2016-10-10</td>\n",
       "      <td>...</td>\n",
       "      <td>NaN</td>\n",
       "      <td>NaN</td>\n",
       "      <td>NaN</td>\n",
       "      <td>NaN</td>\n",
       "      <td>NaN</td>\n",
       "      <td>NaN</td>\n",
       "      <td>NaN</td>\n",
       "      <td>NaN</td>\n",
       "      <td>NaN</td>\n",
       "      <td>NaN</td>\n",
       "    </tr>\n",
       "    <tr>\n",
       "      <th>502489</th>\n",
       "      <td>6025022</td>\n",
       "      <td>0.0</td>\n",
       "      <td>2020-03-10</td>\n",
       "      <td>NaN</td>\n",
       "      <td>0.0</td>\n",
       "      <td>0.0</td>\n",
       "      <td>0.0</td>\n",
       "      <td>0.0</td>\n",
       "      <td>0.0</td>\n",
       "      <td>NaN</td>\n",
       "      <td>...</td>\n",
       "      <td>NaN</td>\n",
       "      <td>NaN</td>\n",
       "      <td>NaN</td>\n",
       "      <td>NaN</td>\n",
       "      <td>NaN</td>\n",
       "      <td>NaN</td>\n",
       "      <td>NaN</td>\n",
       "      <td>NaN</td>\n",
       "      <td>NaN</td>\n",
       "      <td>NaN</td>\n",
       "    </tr>\n",
       "    <tr>\n",
       "      <th>502490</th>\n",
       "      <td>6025036</td>\n",
       "      <td>0.0</td>\n",
       "      <td>NaN</td>\n",
       "      <td>NaN</td>\n",
       "      <td>NaN</td>\n",
       "      <td>NaN</td>\n",
       "      <td>NaN</td>\n",
       "      <td>NaN</td>\n",
       "      <td>NaN</td>\n",
       "      <td>2016-08-22</td>\n",
       "      <td>...</td>\n",
       "      <td>NaN</td>\n",
       "      <td>NaN</td>\n",
       "      <td>NaN</td>\n",
       "      <td>NaN</td>\n",
       "      <td>NaN</td>\n",
       "      <td>NaN</td>\n",
       "      <td>NaN</td>\n",
       "      <td>NaN</td>\n",
       "      <td>NaN</td>\n",
       "      <td>NaN</td>\n",
       "    </tr>\n",
       "    <tr>\n",
       "      <th>502491</th>\n",
       "      <td>6025045</td>\n",
       "      <td>0.0</td>\n",
       "      <td>NaN</td>\n",
       "      <td>NaN</td>\n",
       "      <td>NaN</td>\n",
       "      <td>NaN</td>\n",
       "      <td>NaN</td>\n",
       "      <td>NaN</td>\n",
       "      <td>NaN</td>\n",
       "      <td>NaN</td>\n",
       "      <td>...</td>\n",
       "      <td>NaN</td>\n",
       "      <td>NaN</td>\n",
       "      <td>NaN</td>\n",
       "      <td>NaN</td>\n",
       "      <td>NaN</td>\n",
       "      <td>NaN</td>\n",
       "      <td>NaN</td>\n",
       "      <td>NaN</td>\n",
       "      <td>NaN</td>\n",
       "      <td>NaN</td>\n",
       "    </tr>\n",
       "    <tr>\n",
       "      <th>502492</th>\n",
       "      <td>6025058</td>\n",
       "      <td>0.0</td>\n",
       "      <td>NaN</td>\n",
       "      <td>NaN</td>\n",
       "      <td>NaN</td>\n",
       "      <td>NaN</td>\n",
       "      <td>NaN</td>\n",
       "      <td>NaN</td>\n",
       "      <td>NaN</td>\n",
       "      <td>NaN</td>\n",
       "      <td>...</td>\n",
       "      <td>NaN</td>\n",
       "      <td>NaN</td>\n",
       "      <td>NaN</td>\n",
       "      <td>NaN</td>\n",
       "      <td>NaN</td>\n",
       "      <td>NaN</td>\n",
       "      <td>NaN</td>\n",
       "      <td>NaN</td>\n",
       "      <td>NaN</td>\n",
       "      <td>NaN</td>\n",
       "    </tr>\n",
       "  </tbody>\n",
       "</table>\n",
       "<p>502493 rows × 120 columns</p>\n",
       "</div>"
      ],
      "text/plain": [
       "            eid  31-0.0      53-2.0 53-3.0  1970-2.0  1980-2.0  1990-2.0  \\\n",
       "0       1000014     1.0         NaN    NaN       NaN       NaN       NaN   \n",
       "1       1000023     1.0         NaN    NaN       NaN       NaN       NaN   \n",
       "2       1000030     0.0         NaN    NaN       NaN       NaN       NaN   \n",
       "3       1000041     0.0         NaN    NaN       NaN       NaN       NaN   \n",
       "4       1000059     0.0         NaN    NaN       NaN       NaN       NaN   \n",
       "...         ...     ...         ...    ...       ...       ...       ...   \n",
       "502488  6025017     0.0         NaN    NaN       NaN       NaN       NaN   \n",
       "502489  6025022     0.0  2020-03-10    NaN       0.0       0.0       0.0   \n",
       "502490  6025036     0.0         NaN    NaN       NaN       NaN       NaN   \n",
       "502491  6025045     0.0         NaN    NaN       NaN       NaN       NaN   \n",
       "502492  6025058     0.0         NaN    NaN       NaN       NaN       NaN   \n",
       "\n",
       "        2000-2.0  2010-2.0   20400-0.0  ...  25850-2.0  25851-2.0  25862-2.0  \\\n",
       "0            NaN       NaN         NaN  ...        NaN        NaN        NaN   \n",
       "1            NaN       NaN         NaN  ...        NaN        NaN        NaN   \n",
       "2            NaN       NaN  2016-08-26  ...        NaN        NaN        NaN   \n",
       "3            NaN       NaN         NaN  ...        NaN        NaN        NaN   \n",
       "4            NaN       NaN         NaN  ...        NaN        NaN        NaN   \n",
       "...          ...       ...         ...  ...        ...        ...        ...   \n",
       "502488       NaN       NaN  2016-10-10  ...        NaN        NaN        NaN   \n",
       "502489       0.0       0.0         NaN  ...        NaN        NaN        NaN   \n",
       "502490       NaN       NaN  2016-08-22  ...        NaN        NaN        NaN   \n",
       "502491       NaN       NaN         NaN  ...        NaN        NaN        NaN   \n",
       "502492       NaN       NaN         NaN  ...        NaN        NaN        NaN   \n",
       "\n",
       "        25863-2.0  25878-2.0  25879-2.0  25886-2.0  25887-2.0  25888-2.0  \\\n",
       "0             NaN        NaN        NaN        NaN        NaN        NaN   \n",
       "1             NaN        NaN        NaN        NaN        NaN        NaN   \n",
       "2             NaN        NaN        NaN        NaN        NaN        NaN   \n",
       "3             NaN        NaN        NaN        NaN        NaN        NaN   \n",
       "4             NaN        NaN        NaN        NaN        NaN        NaN   \n",
       "...           ...        ...        ...        ...        ...        ...   \n",
       "502488        NaN        NaN        NaN        NaN        NaN        NaN   \n",
       "502489        NaN        NaN        NaN        NaN        NaN        NaN   \n",
       "502490        NaN        NaN        NaN        NaN        NaN        NaN   \n",
       "502491        NaN        NaN        NaN        NaN        NaN        NaN   \n",
       "502492        NaN        NaN        NaN        NaN        NaN        NaN   \n",
       "\n",
       "        25889-2.0  \n",
       "0             NaN  \n",
       "1             NaN  \n",
       "2             NaN  \n",
       "3             NaN  \n",
       "4             NaN  \n",
       "...           ...  \n",
       "502488        NaN  \n",
       "502489        NaN  \n",
       "502490        NaN  \n",
       "502491        NaN  \n",
       "502492        NaN  \n",
       "\n",
       "[502493 rows x 120 columns]"
      ]
     },
     "execution_count": 42,
     "metadata": {},
     "output_type": "execute_result"
    }
   ],
   "source": [
    "df_keep"
   ]
  },
  {
   "cell_type": "code",
   "execution_count": 43,
   "metadata": {},
   "outputs": [
    {
     "data": {
      "text/plain": [
       "True"
      ]
     },
     "execution_count": 43,
     "metadata": {},
     "output_type": "execute_result"
    }
   ],
   "source": [
    "# check\n",
    "df_kept_cols = df_keep.columns.tolist()\n",
    "\n",
    "df_kept_cols.sort()\n",
    "cols_keep_list.sort()\n",
    "\n",
    "df_kept_cols == cols_keep_list"
   ]
  },
  {
   "cell_type": "code",
   "execution_count": 44,
   "metadata": {},
   "outputs": [],
   "source": [
    "df_keep.to_csv(f\"{output_path}ukb43673_comp_cols.csv\")"
   ]
  },
  {
   "cell_type": "code",
   "execution_count": 45,
   "metadata": {},
   "outputs": [
    {
     "name": "stdout",
     "output_type": "stream",
     "text": [
      "ukb43673_comp_cols.csv\t   ukb43673_somatic_cols_1yr.csv\n",
      "ukb43673_somatic_cols.csv  ukb43673_somatic_cols_6mo.csv\n"
     ]
    }
   ],
   "source": [
    "!ls ../data_generated"
   ]
  }
 ],
 "metadata": {
  "kernelspec": {
   "display_name": "Python 3",
   "language": "python",
   "name": "python3"
  },
  "language_info": {
   "codemirror_mode": {
    "name": "ipython",
    "version": 3
   },
   "file_extension": ".py",
   "mimetype": "text/x-python",
   "name": "python",
   "nbconvert_exporter": "python",
   "pygments_lexer": "ipython3",
   "version": "3.8.6"
  }
 },
 "nbformat": 4,
 "nbformat_minor": 4
}
